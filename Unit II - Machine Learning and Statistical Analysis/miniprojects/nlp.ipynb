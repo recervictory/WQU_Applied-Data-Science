{
 "cells": [
  {
   "cell_type": "code",
   "execution_count": null,
   "metadata": {
    "init_cell": true
   },
   "outputs": [],
   "source": [
    "%logstop\n",
    "%logstart -ortq ~/.logs/nlp.py append\n",
    "%matplotlib inline\n",
    "import matplotlib\n",
    "import seaborn as sns\n",
    "sns.set()\n",
    "matplotlib.rcParams['figure.dpi'] = 144"
   ]
  },
  {
   "cell_type": "code",
   "execution_count": 3,
   "metadata": {},
   "outputs": [],
   "source": [
    "from static_grader import grader"
   ]
  },
  {
   "cell_type": "markdown",
   "metadata": {},
   "source": [
    "# NLP Miniproject"
   ]
  },
  {
   "cell_type": "markdown",
   "metadata": {},
   "source": [
    "## Introduction\n",
    "\n",
    "The objective of this miniproject is to gain experience with natural language processing and how to use text data to train a machine learning model to make predictions. For the miniproject, we will be working with product review text from Amazon. The reviews are for only products in the \"Electronics\" category. The objective is to train a model to predict the rating, ranging from 1 to 5 stars.\n",
    "\n",
    "## Scoring\n",
    "\n",
    "For most of the questions, you will be asked to submit the `predict` method of your trained model to the grader. The grader will use the passed `predict` method to evaluate how your model performs on a test set with respect to a reference model. The grader uses the [R<sup>2</sup>-score](https://scikit-learn.org/stable/modules/model_evaluation.html#r2-score) for model evaluation. If your model performs better than the reference solution, then you can score higher than 1.0. For the last question, you will submit the result of an analysis and your passed answer will be compared directly to the reference solution.\n",
    "\n",
    "## Downloading and loading the data\n",
    "\n",
    "The data set is available on Amazon S3 and comes as a compressed file where each line is a JSON object. To load the data set, we will need to use the `gzip` library to open the file and decode each JSON into a Python dictionary. In the end, we have a list of dictionaries, where each dictionary represents an observation."
   ]
  },
  {
   "cell_type": "code",
   "execution_count": 4,
   "metadata": {},
   "outputs": [],
   "source": [
    "#%%bash\n",
    "#mkdir data\n",
    "#wget http://dataincubator-wqu.s3.amazonaws.com/mldata/amazon_electronics_reviews_training.json.gz -nc -P ./data"
   ]
  },
  {
   "cell_type": "code",
   "execution_count": 28,
   "metadata": {},
   "outputs": [],
   "source": [
    "import gzip\n",
    "import ujson as json\n",
    "\n",
    "with gzip.open(\"data/amazon_electronics_reviews_training.json.gz\", \"r\") as f:                                  \n",
    "    data = [json.loads(line) for line in f]"
   ]
  },
  {
   "cell_type": "markdown",
   "metadata": {},
   "source": [
    "The ratings are stored in the keyword `\"overall\"`. You should create an array of the ratings for each review, preferably using list comprehensions."
   ]
  },
  {
   "cell_type": "code",
   "execution_count": 6,
   "metadata": {},
   "outputs": [
    {
     "data": {
      "text/plain": [
       "{'reviewerID': 'A238V1XTSK9NFE',\n",
       " 'asin': 'B00004VX3T',\n",
       " 'reviewerName': 'Andrew Lynn',\n",
       " 'helpful': [2, 2],\n",
       " 'reviewText': \"I bought this mouse to use with my laptop because I don't like those little touchpads.  I could not be happier.Since it's USB, I can plug it in with the computer already on and expect it to work automatically.  Since it's optical (the new kind, not to be confused with the old Sun optical mice that required a special checkered mouse pad) it works on most surfaces, including my pant legs, my couch, and random tables that I put my laptop down on.  It's also light and durable, features that help with portability.The wheel is surprisingly useful.  In addition to scrolling, it controls zoom and pan in programs like Autocad and 3D Studio Max.  I can no longer bear using either of these programs without it.One complaint - the software included with the Internet navigation features is useless.  Don't bother installing it if you have a newer Windows version that automatically supports wheel mice.  Just plug it in and use it - it's that easy.\",\n",
       " 'overall': 5.0,\n",
       " 'summary': 'Excellent mouse for laptop users',\n",
       " 'unixReviewTime': 1007942400,\n",
       " 'reviewTime': '12 10, 2001'}"
      ]
     },
     "execution_count": 6,
     "metadata": {},
     "output_type": "execute_result"
    }
   ],
   "source": [
    "data[0]"
   ]
  },
  {
   "cell_type": "code",
   "execution_count": 29,
   "metadata": {},
   "outputs": [
    {
     "data": {
      "text/plain": [
       "[5.0, 1.0, 4.0, 5.0, 3.0, 5.0, 3.0, 5.0, 4.0, 5.0]"
      ]
     },
     "execution_count": 29,
     "metadata": {},
     "output_type": "execute_result"
    }
   ],
   "source": [
    "ratings = [d['overall'] for d in data]\n",
    "ratings[:10]"
   ]
  },
  {
   "cell_type": "code",
   "execution_count": 8,
   "metadata": {},
   "outputs": [
    {
     "data": {
      "text/plain": [
       "\"I bought this mouse to use with my laptop because I don't like those little touchpads.  I could not be happier.Since it's USB, I can plug it in with the computer already on and expect it to work automatically.  Since it's optical (the new kind, not to be confused with the old Sun optical mice that required a special checkered mouse pad) it works on most surfaces, including my pant legs, my couch, and random tables that I put my laptop down on.  It's also light and durable, features that help with portability.The wheel is surprisingly useful.  In addition to scrolling, it controls zoom and pan in programs like Autocad and 3D Studio Max.  I can no longer bear using either of these programs without it.One complaint - the software included with the Internet navigation features is useless.  Don't bother installing it if you have a newer Windows version that automatically supports wheel mice.  Just plug it in and use it - it's that easy.\""
      ]
     },
     "execution_count": 8,
     "metadata": {},
     "output_type": "execute_result"
    }
   ],
   "source": [
    "review = [data[i]['reviewText'] for i in range(len(data))]\n",
    "review[0]"
   ]
  },
  {
   "cell_type": "markdown",
   "metadata": {},
   "source": [
    "**Note**, the test set used by the grader is in the same format as that of `data`, a list of dictionaries. Your trained model needs to accept data in the same format. Thus, you should use `Pipeline` when constructing your model so that all necessary transformation needed are encapsulated into a single estimator object."
   ]
  },
  {
   "cell_type": "markdown",
   "metadata": {},
   "source": [
    "## Question 1: Bag of words model\n",
    "\n",
    "Construct a machine learning model trained on word counts using the bag of words algorithm. Remember, the bag of words is implemented with `CountVectorizer`. Some things you should consider:\n",
    "\n",
    "* The reference solution uses a linear model and you should as well; use either `Ridge` or `SGDRegressor`.\n",
    "* The text review is stored in the key `\"reviewText\"`. You will need to construct a custom transformer to extract out the value of this key. It will be the first step in your pipeline.\n",
    "* Consider what hyperparameters you will need to tune for your model.\n",
    "* Subsampling the training data will boost training times, which will be helpful when determining the best hyperparameters to use. Note, your final model will perform best if it is trained on the full data set.\n",
    "* Including stop words may help with performance."
   ]
  },
  {
   "cell_type": "markdown",
   "metadata": {},
   "source": [
    "## Custorm --- Json Transformer"
   ]
  },
  {
   "cell_type": "code",
   "execution_count": 9,
   "metadata": {},
   "outputs": [],
   "source": [
    "from sklearn.base import BaseEstimator, TransformerMixin\n",
    "\n",
    "class JsonTrnsformer (BaseEstimator, TransformerMixin):\n",
    "    \"\"\"Transform Json to list by given key\"\"\"\n",
    "    def __init__(self,key):\n",
    "        self.key = key\n",
    "    def fit(self, X, y=None):\n",
    "        return self\n",
    "\n",
    "    def transform(self, X):\n",
    "        return [d[self.key] for d in X]\n"
   ]
  },
  {
   "cell_type": "code",
   "execution_count": 10,
   "metadata": {},
   "outputs": [],
   "source": [
    "from sklearn.feature_extraction.text import CountVectorizer, HashingVectorizer\n",
    "from sklearn.linear_model import Ridge,LinearRegression\n",
    "from sklearn.pipeline import Pipeline\n",
    "\n",
    "# Create Pipeline\n",
    "bag_of_words_model = Pipeline([\n",
    "    ('review_result', JsonTrnsformer(\"reviewText\")),\n",
    "    ('bags_of_words',CountVectorizer()),\n",
    "    ('classfier',Ridge(alpha=0.1))\n",
    "])"
   ]
  },
  {
   "cell_type": "code",
   "execution_count": 11,
   "metadata": {},
   "outputs": [],
   "source": [
    "#bag_of_words_model.fit(data,ratings)"
   ]
  },
  {
   "cell_type": "code",
   "execution_count": 12,
   "metadata": {},
   "outputs": [],
   "source": [
    "#grader.score.nlp__bag_of_words_model(bag_of_words_model.predict)\n"
   ]
  },
  {
   "cell_type": "markdown",
   "metadata": {},
   "source": [
    "## Question 2: Normalized model\n",
    "\n",
    "Using raw counts will not be as effective compared if we had normalized the counts. There are several ways to normalize raw counts; the `HashingVectorizer` class has the keyword `norm` and there is also the `TfidfTransformer` and `TfidfVectorizer` that perform tf-idf weighting on the counts. Apply normalized to your model to improve performance."
   ]
  },
  {
   "cell_type": "code",
   "execution_count": 13,
   "metadata": {},
   "outputs": [],
   "source": [
    "from sklearn.feature_extraction.text import TfidfVectorizer, TfidfTransformer\n",
    "from spacy.lang.en import STOP_WORDS\n",
    "from sklearn.feature_extraction.text import CountVectorizer, HashingVectorizer\n",
    "from sklearn.linear_model import Ridge,LinearRegression\n",
    "from sklearn.pipeline import Pipeline\n",
    "\n",
    "def lemmatizer(text):\n",
    "    return [word.lemma_ for word in nlp(text)]\n",
    "\n",
    "\n",
    "\n",
    "normalized_model = Pipeline([\n",
    "    ('review_result', JsonTrnsformer(\"reviewText\")),\n",
    "    ('tfid',TfidfVectorizer(max_features=3000)),\n",
    "    ('classfier',Ridge(alpha=0.1))\n",
    "])"
   ]
  },
  {
   "cell_type": "code",
   "execution_count": 14,
   "metadata": {},
   "outputs": [
    {
     "data": {
      "text/plain": [
       "Pipeline(memory=None,\n",
       "         steps=[('review_result', JsonTrnsformer(key='reviewText')),\n",
       "                ('tfid',\n",
       "                 TfidfVectorizer(analyzer='word', binary=False,\n",
       "                                 decode_error='strict',\n",
       "                                 dtype=<class 'numpy.float64'>,\n",
       "                                 encoding='utf-8', input='content',\n",
       "                                 lowercase=True, max_df=1.0, max_features=3000,\n",
       "                                 min_df=1, ngram_range=(1, 1), norm='l2',\n",
       "                                 preprocessor=None, smooth_idf=True,\n",
       "                                 stop_words=None, strip_accents=None,\n",
       "                                 sublinear_tf=False,\n",
       "                                 token_pattern='(?u)\\\\b\\\\w\\\\w+\\\\b',\n",
       "                                 tokenizer=None, use_idf=True,\n",
       "                                 vocabulary=None)),\n",
       "                ('classfier',\n",
       "                 Ridge(alpha=0.1, copy_X=True, fit_intercept=True,\n",
       "                       max_iter=None, normalize=False, random_state=None,\n",
       "                       solver='auto', tol=0.001))],\n",
       "         verbose=False)"
      ]
     },
     "execution_count": 14,
     "metadata": {},
     "output_type": "execute_result"
    }
   ],
   "source": [
    "normalized_model.fit(data,ratings)"
   ]
  },
  {
   "cell_type": "code",
   "execution_count": 15,
   "metadata": {},
   "outputs": [
    {
     "name": "stdout",
     "output_type": "stream",
     "text": [
      "==================\n",
      "Your score:  0.9991540771622206\n",
      "==================\n"
     ]
    }
   ],
   "source": [
    "grader.score.nlp__normalized_model(normalized_model.predict)"
   ]
  },
  {
   "cell_type": "markdown",
   "metadata": {},
   "source": [
    "## Question 3: Bigrams model\n",
    "\n",
    "The model performance may increase when including additional features generated by counting bigrams. Include bigrams to your model. When using more features, the risk of overfitting increases. Make sure you try to minimize overfitting as much as possible."
   ]
  },
  {
   "cell_type": "code",
   "execution_count": 42,
   "metadata": {},
   "outputs": [],
   "source": [
    "from spacy.lang.en import STOP_WORDS\n",
    "from sklearn.feature_extraction.text import TfidfVectorizer, TfidfTransformer\n",
    "from spacy.lang.en import STOP_WORDS\n",
    "from sklearn.feature_extraction.text import CountVectorizer, HashingVectorizer\n",
    "from sklearn.linear_model import Ridge,LinearRegression\n",
    "from sklearn.pipeline import Pipeline\n",
    "from sklearn.model_selection import GridSearchCV\n",
    "import numpy as np\n",
    "\n",
    "gridSearch_ridge = GridSearchCV(Ridge(),param_grid = {\"alpha\": [0.5, 1. , 1.5, 2. ]},\n",
    "                  cv = 3,\n",
    "                  n_jobs =1,\n",
    "                  verbose = 1\n",
    "                 )\n",
    "\n",
    "bigrams_model = Pipeline([\n",
    "    ('review_result', JsonTrnsformer(\"reviewText\")),\n",
    "#    ('tfid',TfidfVectorizer(max_features=3000)),\n",
    "    ('hash',HashingVectorizer(lowercase=True,ngram_range=(1,2), n_features = 20000)),\n",
    "    ('classfier',gridSearch_ridge)\n",
    "])"
   ]
  },
  {
   "cell_type": "code",
   "execution_count": 43,
   "metadata": {},
   "outputs": [
    {
     "name": "stdout",
     "output_type": "stream",
     "text": [
      "Fitting 3 folds for each of 4 candidates, totalling 12 fits\n"
     ]
    },
    {
     "name": "stderr",
     "output_type": "stream",
     "text": [
      "[Parallel(n_jobs=1)]: Using backend SequentialBackend with 1 concurrent workers.\n",
      "[Parallel(n_jobs=1)]: Done  12 out of  12 | elapsed:   43.1s finished\n"
     ]
    },
    {
     "data": {
      "text/plain": [
       "Pipeline(memory=None,\n",
       "         steps=[('review_result', JsonTrnsformer(key='reviewText')),\n",
       "                ('hash',\n",
       "                 HashingVectorizer(alternate_sign=True, analyzer='word',\n",
       "                                   binary=False, decode_error='strict',\n",
       "                                   dtype=<class 'numpy.float64'>,\n",
       "                                   encoding='utf-8', input='content',\n",
       "                                   lowercase=True, n_features=20000,\n",
       "                                   ngram_range=(1, 2), norm='l2',\n",
       "                                   preprocessor=None, stop_words=None,\n",
       "                                   strip_accents=None...\n",
       "                ('classfier',\n",
       "                 GridSearchCV(cv=3, error_score='raise-deprecating',\n",
       "                              estimator=Ridge(alpha=1.0, copy_X=True,\n",
       "                                              fit_intercept=True, max_iter=None,\n",
       "                                              normalize=False,\n",
       "                                              random_state=None, solver='auto',\n",
       "                                              tol=0.001),\n",
       "                              iid='warn', n_jobs=1,\n",
       "                              param_grid={'alpha': [0.5, 1.0, 1.5, 2.0]},\n",
       "                              pre_dispatch='2*n_jobs', refit=True,\n",
       "                              return_train_score=False, scoring=None,\n",
       "                              verbose=1))],\n",
       "         verbose=False)"
      ]
     },
     "execution_count": 43,
     "metadata": {},
     "output_type": "execute_result"
    }
   ],
   "source": [
    "bigrams_model.fit(data,ratings)"
   ]
  },
  {
   "cell_type": "code",
   "execution_count": 44,
   "metadata": {},
   "outputs": [
    {
     "name": "stdout",
     "output_type": "stream",
     "text": [
      "==================\n",
      "Your score:  1.0076943288287978\n",
      "==================\n"
     ]
    }
   ],
   "source": [
    "grader.score.nlp__bigrams_model(bigrams_model.predict)"
   ]
  },
  {
   "cell_type": "markdown",
   "metadata": {},
   "source": [
    "## Question 4: Polarity analysis\n",
    "\n",
    "Let's derive some insight from our analysis. We want to determine the most polarizing words in the corpus of reviews. In other words, we want identify words that strongly signal a review is either positive or negative. For example, we understand a word like \"terrible\" will mostly appear in negative rather than positive reviews. The naive Bayes model calculates probabilities such as $P(\\text{terrible } | \\text{ negative})$, the probability the review is negative given the word \"terrible\" appears in the text. Using these probabilities, we can derive a polarity score for each counted word,\n",
    "\n",
    "$$\n",
    "\\text{polarity} =  \\log\\left(\\frac{P(\\text{word } | \\text{ positive})}{P(\\text{word } | \\text{ negative})}\\right).\n",
    "$$ \n",
    "\n",
    "The polarity analysis is an example where a simpler model offers more explicability than a more complicated model. For this question, you are asked to determine the top twenty-five words with the largest positive **and** largest negative polarity, for a total of fifty words. For this analysis, you should:\n",
    "\n",
    "1. Use the naive Bayes model, `MultinomialNB`.\n",
    "1. Use tf-idf weighting.\n",
    "1. Remove stop words.\n",
    "\n",
    "A trained naive Bayes model stores the log of the probabilities in the attribute `feature_log_prob_`. It is a NumPy array of shape (number of classes, the number of features). You will need the mapping between feature index to word. For this problem, you will use a different data set; it has been processed to only include reviews with one and five stars. You can download it below."
   ]
  },
  {
   "cell_type": "code",
   "execution_count": 45,
   "metadata": {},
   "outputs": [
    {
     "name": "stderr",
     "output_type": "stream",
     "text": [
      "File ‘./data/amazon_one_and_five_star_reviews.json.gz’ already there; not retrieving.\n",
      "\n"
     ]
    }
   ],
   "source": [
    "%%bash\n",
    "wget http://dataincubator-wqu.s3.amazonaws.com/mldata/amazon_one_and_five_star_reviews.json.gz -nc -P ./data"
   ]
  },
  {
   "cell_type": "markdown",
   "metadata": {},
   "source": [
    "To avoid memory issue, we can delete the older data."
   ]
  },
  {
   "cell_type": "code",
   "execution_count": 46,
   "metadata": {},
   "outputs": [],
   "source": [
    "del data, ratings"
   ]
  },
  {
   "cell_type": "code",
   "execution_count": 52,
   "metadata": {},
   "outputs": [],
   "source": [
    "from sklearn.base import BaseEstimator, TransformerMixin\n",
    "from spacy.lang.en import STOP_WORDS\n",
    "from sklearn.feature_extraction.text import TfidfVectorizer, TfidfTransformer\n",
    "\n",
    "class JsonTrnsformer (BaseEstimator, TransformerMixin):\n",
    "    \"\"\"Transform Json to list by given key\"\"\"\n",
    "    def __init__(self,key):\n",
    "        self.key = key\n",
    "    def fit(self, X, y=None):\n",
    "        return self\n",
    "\n",
    "    def transform(self, X):\n",
    "        return [d[self.key] for d in X]\n"
   ]
  },
  {
   "cell_type": "code",
   "execution_count": 56,
   "metadata": {},
   "outputs": [],
   "source": [
    "import numpy as np\n",
    "from sklearn.naive_bayes import MultinomialNB\n",
    "\n",
    "with gzip.open(\"data/amazon_one_and_five_star_reviews.json.gz\", \"r\") as f:\n",
    "    data_polarity = [json.loads(line) for line in f]\n",
    "\n",
    "rating_transform = JsonTrnsformer(\"overall\")\n",
    "ratings = rating_transform.fit_transform(data_polarity)\n",
    "\n",
    "polarity_model = Pipeline([\n",
    "    ('reviews', JsonTrnsformer('reviewText')),\n",
    "    ('tf_idf',TfidfVectorizer(stop_words = \"english\")),\n",
    "    ('Classfier_naive_Bayes', MultinomialNB())\n",
    "])"
   ]
  },
  {
   "cell_type": "code",
   "execution_count": 57,
   "metadata": {},
   "outputs": [
    {
     "data": {
      "text/plain": [
       "Pipeline(memory=None,\n",
       "         steps=[('reviews', JsonTrnsformer(key='reviewText')),\n",
       "                ('tf_idf',\n",
       "                 TfidfVectorizer(analyzer='word', binary=False,\n",
       "                                 decode_error='strict',\n",
       "                                 dtype=<class 'numpy.float64'>,\n",
       "                                 encoding='utf-8', input='content',\n",
       "                                 lowercase=True, max_df=1.0, max_features=None,\n",
       "                                 min_df=1, ngram_range=(1, 1), norm='l2',\n",
       "                                 preprocessor=None, smooth_idf=True,\n",
       "                                 stop_words='english', strip_accents=None,\n",
       "                                 sublinear_tf=False,\n",
       "                                 token_pattern='(?u)\\\\b\\\\w\\\\w+\\\\b',\n",
       "                                 tokenizer=None, use_idf=True,\n",
       "                                 vocabulary=None)),\n",
       "                ('Classfier_naive_Bayes',\n",
       "                 MultinomialNB(alpha=1.0, class_prior=None, fit_prior=True))],\n",
       "         verbose=False)"
      ]
     },
     "execution_count": 57,
     "metadata": {},
     "output_type": "execute_result"
    }
   ],
   "source": [
    "polarity_model.fit(data_polarity,ratings)"
   ]
  },
  {
   "cell_type": "code",
   "execution_count": 59,
   "metadata": {},
   "outputs": [],
   "source": [
    "#Get feat from model\n",
    "feat_to_token = polarity_model.named_steps['tf_idf'].get_feature_names()\n",
    "\n",
    "# Get proba from model\n",
    "log_prob = polarity_model['Classfier_naive_Bayes'].feature_log_prob_\n",
    "\n",
    "# Calculate polarity\n",
    "polarity = log_prob[0,:]-log_prob[1,:]\n",
    "\n",
    "# Combine polarity and feat \n",
    "most_polar = sorted(list(zip(polarity, feat_to_token)))\n",
    "\n",
    "# Take the first 25 and the last 25 from most_polar\n",
    "n = 25\n",
    "most_polar = most_polar[:n]+most_polar[-n:]\n",
    "\n",
    "top_50 = [x[1] for x in most_polar]"
   ]
  },
  {
   "cell_type": "code",
   "execution_count": 60,
   "metadata": {},
   "outputs": [
    {
     "name": "stdout",
     "output_type": "stream",
     "text": [
      "==================\n",
      "Your score:  1.0\n",
      "==================\n"
     ]
    }
   ],
   "source": [
    "grader.score.nlp__most_polar(top_50)"
   ]
  },
  {
   "cell_type": "markdown",
   "metadata": {},
   "source": [
    "## Question 5: Topic modeling [optional]\n",
    "\n",
    "Topic modeling is the analysis of determining the key topics or themes in a corpus. With respect to machine learning, topic modeling is an unsupervised technique. One way to uncover the main topics in a corpus is to use [non-negative matrix factorization](https://scikit-learn.org/stable/modules/generated/sklearn.decomposition.NMF.html). For this question, use non-negative matrix factorization to determine the top ten words for the first twenty topics. You should submit your answer as a list of lists. What topics exist in the reviews?"
   ]
  },
  {
   "cell_type": "code",
   "execution_count": null,
   "metadata": {},
   "outputs": [],
   "source": [
    "from sklearn.decomposition import NMF\n",
    "topic_model = Pipeline([\n",
    "    ('selector', JsonTrnsformer('reviewText')),\n",
    "    ('vectorizer', TfidfVectorizer(stop_words='english')), \n",
    "    ('reduction', NMF(n_components=20)),\n",
    " #   ('classifier', MultinomialNB())\n",
    "])\n",
    "topic_model.fit(data_polarity)\n",
    "nmf = topic_model.named_steps['reduction']\n",
    "ind_to_token = topic_model.named_steps['vectorizer'].get_feature_names()\n",
    "words_in_topics = []\n",
    "for topic in nmf.components_:\n",
    "    idx = topic.argsort()[-10:]\n",
    "    top_words = [ind_to_token[i] for i in idx]\n",
    "    words_in_topics.append(top_words)\n",
    " "
   ]
  },
  {
   "cell_type": "code",
   "execution_count": 64,
   "metadata": {},
   "outputs": [
    {
     "data": {
      "text/html": [
       "<div>\n",
       "<style scoped>\n",
       "    .dataframe tbody tr th:only-of-type {\n",
       "        vertical-align: middle;\n",
       "    }\n",
       "\n",
       "    .dataframe tbody tr th {\n",
       "        vertical-align: top;\n",
       "    }\n",
       "\n",
       "    .dataframe thead th {\n",
       "        text-align: right;\n",
       "    }\n",
       "</style>\n",
       "<table border=\"1\" class=\"dataframe\">\n",
       "  <thead>\n",
       "    <tr style=\"text-align: right;\">\n",
       "      <th></th>\n",
       "      <th>Topic # 01</th>\n",
       "      <th>Topic # 02</th>\n",
       "      <th>Topic # 03</th>\n",
       "      <th>Topic # 04</th>\n",
       "      <th>Topic # 05</th>\n",
       "      <th>Topic # 06</th>\n",
       "      <th>Topic # 07</th>\n",
       "      <th>Topic # 08</th>\n",
       "      <th>Topic # 09</th>\n",
       "      <th>Topic # 10</th>\n",
       "      <th>Topic # 11</th>\n",
       "      <th>Topic # 12</th>\n",
       "      <th>Topic # 13</th>\n",
       "      <th>Topic # 14</th>\n",
       "      <th>Topic # 15</th>\n",
       "      <th>Topic # 16</th>\n",
       "      <th>Topic # 17</th>\n",
       "      <th>Topic # 18</th>\n",
       "      <th>Topic # 19</th>\n",
       "      <th>Topic # 20</th>\n",
       "    </tr>\n",
       "  </thead>\n",
       "  <tbody>\n",
       "    <tr>\n",
       "      <th>0</th>\n",
       "      <td>got</td>\n",
       "      <td>wide</td>\n",
       "      <td>music</td>\n",
       "      <td>needed</td>\n",
       "      <td>remote</td>\n",
       "      <td>dvds</td>\n",
       "      <td>perfect</td>\n",
       "      <td>hand</td>\n",
       "      <td>products</td>\n",
       "      <td>volume</td>\n",
       "      <td>sd</td>\n",
       "      <td>link</td>\n",
       "      <td>protection</td>\n",
       "      <td>far</td>\n",
       "      <td>port</td>\n",
       "      <td>car</td>\n",
       "      <td>expected</td>\n",
       "      <td>like</td>\n",
       "      <td>software</td>\n",
       "      <td>length</td>\n",
       "    </tr>\n",
       "    <tr>\n",
       "      <th>1</th>\n",
       "      <td>amazon</td>\n",
       "      <td>nikon</td>\n",
       "      <td>headphone</td>\n",
       "      <td>length</td>\n",
       "      <td>flash</td>\n",
       "      <td>tv</td>\n",
       "      <td>use</td>\n",
       "      <td>mice</td>\n",
       "      <td>tech</td>\n",
       "      <td>set</td>\n",
       "      <td>software</td>\n",
       "      <td>firmware</td>\n",
       "      <td>quality</td>\n",
       "      <td>say</td>\n",
       "      <td>use</td>\n",
       "      <td>radios</td>\n",
       "      <td>charm</td>\n",
       "      <td>nice</td>\n",
       "      <td>windows</td>\n",
       "      <td>belkin</td>\n",
       "    </tr>\n",
       "    <tr>\n",
       "      <th>2</th>\n",
       "      <td>months</td>\n",
       "      <td>sharp</td>\n",
       "      <td>comfortable</td>\n",
       "      <td>extension</td>\n",
       "      <td>battery</td>\n",
       "      <td>unit</td>\n",
       "      <td>value</td>\n",
       "      <td>used</td>\n",
       "      <td>advertised</td>\n",
       "      <td>bose</td>\n",
       "      <td>quot</td>\n",
       "      <td>internet</td>\n",
       "      <td>lenses</td>\n",
       "      <td>really</td>\n",
       "      <td>plug</td>\n",
       "      <td>better</td>\n",
       "      <td>say</td>\n",
       "      <td>fits</td>\n",
       "      <td>remote</td>\n",
       "      <td>ve</td>\n",
       "    </tr>\n",
       "    <tr>\n",
       "      <th>3</th>\n",
       "      <td>money</td>\n",
       "      <td>light</td>\n",
       "      <td>head</td>\n",
       "      <td>modem</td>\n",
       "      <td>batteries</td>\n",
       "      <td>discs</td>\n",
       "      <td>need</td>\n",
       "      <td>buttons</td>\n",
       "      <td>service</td>\n",
       "      <td>surround</td>\n",
       "      <td>sandisk</td>\n",
       "      <td>support</td>\n",
       "      <td>protect</td>\n",
       "      <td>pretty</td>\n",
       "      <td>adapter</td>\n",
       "      <td>station</td>\n",
       "      <td>perfectly</td>\n",
       "      <td>tripod</td>\n",
       "      <td>make</td>\n",
       "      <td>cheap</td>\n",
       "    </tr>\n",
       "    <tr>\n",
       "      <th>4</th>\n",
       "      <td>don</td>\n",
       "      <td>hood</td>\n",
       "      <td>bass</td>\n",
       "      <td>belkin</td>\n",
       "      <td>canon</td>\n",
       "      <td>disc</td>\n",
       "      <td>worked</td>\n",
       "      <td>microsoft</td>\n",
       "      <td>purchase</td>\n",
       "      <td>sub</td>\n",
       "      <td>cf</td>\n",
       "      <td>connection</td>\n",
       "      <td>hoya</td>\n",
       "      <td>build</td>\n",
       "      <td>hub</td>\n",
       "      <td>signal</td>\n",
       "      <td>tv</td>\n",
       "      <td>strap</td>\n",
       "      <td>did</td>\n",
       "      <td>connectors</td>\n",
       "    </tr>\n",
       "    <tr>\n",
       "      <th>5</th>\n",
       "      <td>buy</td>\n",
       "      <td>50mm</td>\n",
       "      <td>pair</td>\n",
       "      <td>signal</td>\n",
       "      <td>cameras</td>\n",
       "      <td>sony</td>\n",
       "      <td>highly</td>\n",
       "      <td>trackball</td>\n",
       "      <td>does</td>\n",
       "      <td>bass</td>\n",
       "      <td>install</td>\n",
       "      <td>network</td>\n",
       "      <td>tiffen</td>\n",
       "      <td>value</td>\n",
       "      <td>device</td>\n",
       "      <td>stations</td>\n",
       "      <td>cord</td>\n",
       "      <td>small</td>\n",
       "      <td>doesn</td>\n",
       "      <td>monster</td>\n",
       "    </tr>\n",
       "    <tr>\n",
       "      <th>6</th>\n",
       "      <td>bought</td>\n",
       "      <td>focus</td>\n",
       "      <td>ears</td>\n",
       "      <td>connect</td>\n",
       "      <td>use</td>\n",
       "      <td>play</td>\n",
       "      <td>easy</td>\n",
       "      <td>use</td>\n",
       "      <td>support</td>\n",
       "      <td>wire</td>\n",
       "      <td>memory</td>\n",
       "      <td>netgear</td>\n",
       "      <td>glass</td>\n",
       "      <td>sound</td>\n",
       "      <td>computer</td>\n",
       "      <td>reception</td>\n",
       "      <td>just</td>\n",
       "      <td>carry</td>\n",
       "      <td>didn</td>\n",
       "      <td>ordered</td>\n",
       "    </tr>\n",
       "    <tr>\n",
       "      <th>7</th>\n",
       "      <td>unit</td>\n",
       "      <td>lenses</td>\n",
       "      <td>ear</td>\n",
       "      <td>monitor</td>\n",
       "      <td>digital</td>\n",
       "      <td>cd</td>\n",
       "      <td>recommend</td>\n",
       "      <td>logitech</td>\n",
       "      <td>amazon</td>\n",
       "      <td>speaker</td>\n",
       "      <td>windows</td>\n",
       "      <td>linksys</td>\n",
       "      <td>uv</td>\n",
       "      <td>price</td>\n",
       "      <td>drive</td>\n",
       "      <td>fm</td>\n",
       "      <td>like</td>\n",
       "      <td>fit</td>\n",
       "      <td>tried</td>\n",
       "      <td>hosa</td>\n",
       "    </tr>\n",
       "    <tr>\n",
       "      <th>8</th>\n",
       "      <td>time</td>\n",
       "      <td>canon</td>\n",
       "      <td>sound</td>\n",
       "      <td>tv</td>\n",
       "      <td>pictures</td>\n",
       "      <td>player</td>\n",
       "      <td>price</td>\n",
       "      <td>keyboard</td>\n",
       "      <td>recommend</td>\n",
       "      <td>sound</td>\n",
       "      <td>cards</td>\n",
       "      <td>wireless</td>\n",
       "      <td>filters</td>\n",
       "      <td>quality</td>\n",
       "      <td>power</td>\n",
       "      <td>antenna</td>\n",
       "      <td>fine</td>\n",
       "      <td>case</td>\n",
       "      <td>does</td>\n",
       "      <td>quality</td>\n",
       "    </tr>\n",
       "    <tr>\n",
       "      <th>9</th>\n",
       "      <td>just</td>\n",
       "      <td>lens</td>\n",
       "      <td>headphones</td>\n",
       "      <td>cable</td>\n",
       "      <td>camera</td>\n",
       "      <td>dvd</td>\n",
       "      <td>great</td>\n",
       "      <td>mouse</td>\n",
       "      <td>product</td>\n",
       "      <td>speakers</td>\n",
       "      <td>card</td>\n",
       "      <td>router</td>\n",
       "      <td>filter</td>\n",
       "      <td>good</td>\n",
       "      <td>usb</td>\n",
       "      <td>radio</td>\n",
       "      <td>works</td>\n",
       "      <td>bag</td>\n",
       "      <td>work</td>\n",
       "      <td>cables</td>\n",
       "    </tr>\n",
       "  </tbody>\n",
       "</table>\n",
       "</div>"
      ],
      "text/plain": [
       "  Topic # 01 Topic # 02   Topic # 03 Topic # 04 Topic # 05 Topic # 06  \\\n",
       "0        got       wide        music     needed     remote       dvds   \n",
       "1     amazon      nikon    headphone     length      flash         tv   \n",
       "2     months      sharp  comfortable  extension    battery       unit   \n",
       "3      money      light         head      modem  batteries      discs   \n",
       "4        don       hood         bass     belkin      canon       disc   \n",
       "5        buy       50mm         pair     signal    cameras       sony   \n",
       "6     bought      focus         ears    connect        use       play   \n",
       "7       unit     lenses          ear    monitor    digital         cd   \n",
       "8       time      canon        sound         tv   pictures     player   \n",
       "9       just       lens   headphones      cable     camera        dvd   \n",
       "\n",
       "  Topic # 07 Topic # 08  Topic # 09 Topic # 10 Topic # 11  Topic # 12  \\\n",
       "0    perfect       hand    products     volume         sd        link   \n",
       "1        use       mice        tech        set   software    firmware   \n",
       "2      value       used  advertised       bose       quot    internet   \n",
       "3       need    buttons     service   surround    sandisk     support   \n",
       "4     worked  microsoft    purchase        sub         cf  connection   \n",
       "5     highly  trackball        does       bass    install     network   \n",
       "6       easy        use     support       wire     memory     netgear   \n",
       "7  recommend   logitech      amazon    speaker    windows     linksys   \n",
       "8      price   keyboard   recommend      sound      cards    wireless   \n",
       "9      great      mouse     product   speakers       card      router   \n",
       "\n",
       "   Topic # 13 Topic # 14 Topic # 15 Topic # 16 Topic # 17 Topic # 18  \\\n",
       "0  protection        far       port        car   expected       like   \n",
       "1     quality        say        use     radios      charm       nice   \n",
       "2      lenses     really       plug     better        say       fits   \n",
       "3     protect     pretty    adapter    station  perfectly     tripod   \n",
       "4        hoya      build        hub     signal         tv      strap   \n",
       "5      tiffen      value     device   stations       cord      small   \n",
       "6       glass      sound   computer  reception       just      carry   \n",
       "7          uv      price      drive         fm       like        fit   \n",
       "8     filters    quality      power    antenna       fine       case   \n",
       "9      filter       good        usb      radio      works        bag   \n",
       "\n",
       "  Topic # 19  Topic # 20  \n",
       "0   software      length  \n",
       "1    windows      belkin  \n",
       "2     remote          ve  \n",
       "3       make       cheap  \n",
       "4        did  connectors  \n",
       "5      doesn     monster  \n",
       "6       didn     ordered  \n",
       "7      tried        hosa  \n",
       "8       does     quality  \n",
       "9       work      cables  "
      ]
     },
     "execution_count": 64,
     "metadata": {},
     "output_type": "execute_result"
    }
   ],
   "source": [
    "import pandas as pd\n",
    "wdict = {}\n",
    "for i, wlist in enumerate(words_in_topics):\n",
    "    wdict['Topic # '+'{:02d}'.format(i+1)]= wlist\n",
    "pd.DataFrame(wdict)"
   ]
  },
  {
   "cell_type": "markdown",
   "metadata": {},
   "source": [
    "*Copyright &copy; 2019 The Data Incubator.  All rights reserved.*"
   ]
  }
 ],
 "metadata": {
  "kernelspec": {
   "display_name": "Python 3",
   "language": "python",
   "name": "python3"
  },
  "language_info": {
   "codemirror_mode": {
    "name": "ipython",
    "version": 3
   },
   "file_extension": ".py",
   "mimetype": "text/x-python",
   "name": "python",
   "nbconvert_exporter": "python",
   "pygments_lexer": "ipython3",
   "version": "3.7.3"
  },
  "nbclean": true
 },
 "nbformat": 4,
 "nbformat_minor": 1
}
